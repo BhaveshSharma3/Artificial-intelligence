{
 "cells": [
  {
   "cell_type": "code",
   "execution_count": 1,
   "id": "69eae06f",
   "metadata": {},
   "outputs": [],
   "source": [
    "import pandas as pd\n",
    "import numpy as np\n",
    "import matplotlib.pyplot as plt\n"
   ]
  },
  {
   "cell_type": "code",
   "execution_count": 9,
   "id": "c3ff5265",
   "metadata": {},
   "outputs": [
    {
     "name": "stdout",
     "output_type": "stream",
     "text": [
      "(60000, 28, 28)\n",
      "(60000,)\n",
      "(10000, 28, 28)\n",
      "(10000,)\n"
     ]
    }
   ],
   "source": [
    "from tensorflow.keras.datasets import mnist\n",
    "(x_train, y_train),(x_test,y_test) = mnist.load_data()\n",
    "print(x_train.shape)\n",
    "print(y_train.shape)\n",
    "print(x_test.shape)\n",
    "print(y_test.shape)"
   ]
  },
  {
   "cell_type": "code",
   "execution_count": 10,
   "id": "651c62b0",
   "metadata": {},
   "outputs": [
    {
     "name": "stdout",
     "output_type": "stream",
     "text": [
      "(5000, 28, 28)\n",
      "(5000,)\n",
      "(1000, 28, 28)\n",
      "(1000,)\n"
     ]
    }
   ],
   "source": [
    "x_train = x_train[:5000,:,:]\n",
    "x_test = x_test[:1000,:,:]\n",
    "y_train = y_train[:5000]\n",
    "y_test = y_test[:1000]\n",
    "\n",
    "print(x_train.shape)\n",
    "print(y_train.shape)\n",
    "print(x_test.shape)\n",
    "print(y_test.shape)"
   ]
  },
  {
   "cell_type": "code",
   "execution_count": 11,
   "id": "31d49f74",
   "metadata": {},
   "outputs": [],
   "source": [
    "x_train = x_train/255\n",
    "x_test = x_test/255"
   ]
  },
  {
   "cell_type": "code",
   "execution_count": 14,
   "id": "7a04870e",
   "metadata": {},
   "outputs": [],
   "source": [
    "x_train = x_train.reshape(5000,28,28,1)\n",
    "x_test = x_test.reshape(1000,28,28,1)"
   ]
  },
  {
   "cell_type": "code",
   "execution_count": 15,
   "id": "51261ab3",
   "metadata": {},
   "outputs": [],
   "source": [
    "from tensorflow.keras.layers import Dropout,Dense,Flatten,Conv2D,MaxPooling2D\n",
    "from tensorflow.keras.models import Sequential"
   ]
  },
  {
   "cell_type": "code",
   "execution_count": 22,
   "id": "57bf0fbb",
   "metadata": {},
   "outputs": [],
   "source": [
    "m1=Sequential()\n",
    "m1.add(Conv2D(64,(3,3),activation='relu',input_shape=(28,28,1)))\n",
    "m1.add(MaxPooling2D(pool_size=(2,2)))\n",
    "\n",
    "m1.add(Conv2D(64,(3,3),activation='relu',input_shape=(28,28,1)))\n",
    "m1.add(MaxPooling2D(pool_size=(2,2)))\n",
    "\n",
    "m1.add(Conv2D(64,(3,3),activation='relu',input_shape=(28,28,1)))\n",
    "m1.add(MaxPooling2D(pool_size=(2,2)))\n",
    "\n",
    "m1.add(Flatten())\n",
    "m1.add(Dense(64,activation='relu'))\n",
    "m1.add(Dense(32,activation='relu'))\n",
    "m1.add(Dense(10,activation='softmax'))\n",
    "\n",
    "m1.compile(optimizer='adam',loss='sparse_categorical_crossentropy',metrics=['acc'])"
   ]
  },
  {
   "cell_type": "code",
   "execution_count": 23,
   "id": "60f929fb",
   "metadata": {},
   "outputs": [
    {
     "name": "stdout",
     "output_type": "stream",
     "text": [
      "Epoch 1/20\n",
      "157/157 [==============================] - 6s 30ms/step - loss: 0.9324 - acc: 0.6968 - val_loss: 0.3968 - val_acc: 0.8710\n",
      "Epoch 2/20\n",
      "157/157 [==============================] - 4s 28ms/step - loss: 0.2709 - acc: 0.9192 - val_loss: 0.2632 - val_acc: 0.9140\n",
      "Epoch 3/20\n",
      "157/157 [==============================] - 4s 26ms/step - loss: 0.1717 - acc: 0.9512 - val_loss: 0.2231 - val_acc: 0.9270\n",
      "Epoch 4/20\n",
      "157/157 [==============================] - 4s 26ms/step - loss: 0.1480 - acc: 0.9548 - val_loss: 0.1730 - val_acc: 0.9420\n",
      "Epoch 5/20\n",
      "157/157 [==============================] - 4s 26ms/step - loss: 0.1071 - acc: 0.9678 - val_loss: 0.1768 - val_acc: 0.9440\n",
      "Epoch 6/20\n",
      "157/157 [==============================] - 4s 27ms/step - loss: 0.0943 - acc: 0.9722 - val_loss: 0.1305 - val_acc: 0.9520\n",
      "Epoch 7/20\n",
      "157/157 [==============================] - 4s 26ms/step - loss: 0.0706 - acc: 0.9790 - val_loss: 0.1343 - val_acc: 0.9580\n",
      "Epoch 8/20\n",
      "157/157 [==============================] - 4s 27ms/step - loss: 0.0615 - acc: 0.9818 - val_loss: 0.1219 - val_acc: 0.9650\n",
      "Epoch 9/20\n",
      "157/157 [==============================] - 4s 27ms/step - loss: 0.0462 - acc: 0.9852 - val_loss: 0.1957 - val_acc: 0.9430\n",
      "Epoch 10/20\n",
      "157/157 [==============================] - 5s 31ms/step - loss: 0.0427 - acc: 0.9874 - val_loss: 0.1284 - val_acc: 0.9590\n",
      "Epoch 11/20\n",
      "157/157 [==============================] - 5s 33ms/step - loss: 0.0309 - acc: 0.9924 - val_loss: 0.1490 - val_acc: 0.9500\n",
      "Epoch 12/20\n",
      "157/157 [==============================] - 5s 30ms/step - loss: 0.0333 - acc: 0.9894 - val_loss: 0.2253 - val_acc: 0.9300\n",
      "Epoch 13/20\n",
      "157/157 [==============================] - 4s 28ms/step - loss: 0.0498 - acc: 0.9860 - val_loss: 0.1168 - val_acc: 0.9600\n",
      "Epoch 14/20\n",
      "157/157 [==============================] - 4s 28ms/step - loss: 0.0176 - acc: 0.9948 - val_loss: 0.1201 - val_acc: 0.9630\n",
      "Epoch 15/20\n",
      "157/157 [==============================] - 5s 29ms/step - loss: 0.0120 - acc: 0.9962 - val_loss: 0.1206 - val_acc: 0.9670\n",
      "Epoch 16/20\n",
      "157/157 [==============================] - 5s 30ms/step - loss: 0.0199 - acc: 0.9944 - val_loss: 0.1344 - val_acc: 0.9620\n",
      "Epoch 17/20\n",
      "157/157 [==============================] - 5s 29ms/step - loss: 0.0056 - acc: 0.9988 - val_loss: 0.1168 - val_acc: 0.9690\n",
      "Epoch 18/20\n",
      "157/157 [==============================] - 5s 29ms/step - loss: 0.0117 - acc: 0.9956 - val_loss: 0.2490 - val_acc: 0.9400\n",
      "Epoch 19/20\n",
      "157/157 [==============================] - 5s 29ms/step - loss: 0.0087 - acc: 0.9970 - val_loss: 0.1334 - val_acc: 0.9670\n",
      "Epoch 20/20\n",
      "157/157 [==============================] - 5s 29ms/step - loss: 0.0018 - acc: 0.9998 - val_loss: 0.1217 - val_acc: 0.9700\n"
     ]
    }
   ],
   "source": [
    "h1=m1.fit(x_train,y_train,validation_data=(x_test,y_test),epochs=20)"
   ]
  },
  {
   "cell_type": "code",
   "execution_count": 24,
   "id": "3f20a32c",
   "metadata": {},
   "outputs": [
    {
     "data": {
      "text/html": [
       "<div>\n",
       "<style scoped>\n",
       "    .dataframe tbody tr th:only-of-type {\n",
       "        vertical-align: middle;\n",
       "    }\n",
       "\n",
       "    .dataframe tbody tr th {\n",
       "        vertical-align: top;\n",
       "    }\n",
       "\n",
       "    .dataframe thead th {\n",
       "        text-align: right;\n",
       "    }\n",
       "</style>\n",
       "<table border=\"1\" class=\"dataframe\">\n",
       "  <thead>\n",
       "    <tr style=\"text-align: right;\">\n",
       "      <th></th>\n",
       "      <th>loss</th>\n",
       "      <th>acc</th>\n",
       "      <th>val_loss</th>\n",
       "      <th>val_acc</th>\n",
       "      <th>Epochs</th>\n",
       "    </tr>\n",
       "  </thead>\n",
       "  <tbody>\n",
       "    <tr>\n",
       "      <th>15</th>\n",
       "      <td>0.019914</td>\n",
       "      <td>0.9944</td>\n",
       "      <td>0.134439</td>\n",
       "      <td>0.962</td>\n",
       "      <td>15</td>\n",
       "    </tr>\n",
       "    <tr>\n",
       "      <th>16</th>\n",
       "      <td>0.005648</td>\n",
       "      <td>0.9988</td>\n",
       "      <td>0.116765</td>\n",
       "      <td>0.969</td>\n",
       "      <td>16</td>\n",
       "    </tr>\n",
       "    <tr>\n",
       "      <th>17</th>\n",
       "      <td>0.011737</td>\n",
       "      <td>0.9956</td>\n",
       "      <td>0.248959</td>\n",
       "      <td>0.940</td>\n",
       "      <td>17</td>\n",
       "    </tr>\n",
       "    <tr>\n",
       "      <th>18</th>\n",
       "      <td>0.008743</td>\n",
       "      <td>0.9970</td>\n",
       "      <td>0.133426</td>\n",
       "      <td>0.967</td>\n",
       "      <td>18</td>\n",
       "    </tr>\n",
       "    <tr>\n",
       "      <th>19</th>\n",
       "      <td>0.001849</td>\n",
       "      <td>0.9998</td>\n",
       "      <td>0.121700</td>\n",
       "      <td>0.970</td>\n",
       "      <td>19</td>\n",
       "    </tr>\n",
       "  </tbody>\n",
       "</table>\n",
       "</div>"
      ],
      "text/plain": [
       "        loss     acc  val_loss  val_acc  Epochs\n",
       "15  0.019914  0.9944  0.134439    0.962      15\n",
       "16  0.005648  0.9988  0.116765    0.969      16\n",
       "17  0.011737  0.9956  0.248959    0.940      17\n",
       "18  0.008743  0.9970  0.133426    0.967      18\n",
       "19  0.001849  0.9998  0.121700    0.970      19"
      ]
     },
     "execution_count": 24,
     "metadata": {},
     "output_type": "execute_result"
    }
   ],
   "source": [
    "r1=pd.DataFrame(h1.history)\n",
    "r1['Epochs']=h1.epoch\n",
    "r1.tail()"
   ]
  },
  {
   "cell_type": "code",
   "execution_count": 25,
   "id": "734e12cc",
   "metadata": {},
   "outputs": [
    {
     "data": {
      "image/png": "[encoded data removed]",
      "text/plain": [
       "<Figure size 640x480 with 1 Axes>"
      ]
     },
     "metadata": {},
     "output_type": "display_data"
    }
   ],
   "source": [
    "plt.plot(r1['Epochs'],r1['loss'],label='training-data')\n",
    "plt.plot(r1['Epochs'],r1['val_loss'],label='test-data')\n",
    "plt.title('Epochs vs loss')\n",
    "plt.xlabel('Epochs')\n",
    "plt.ylabel('loss')\n",
    "plt.legend()\n",
    "plt.show()"
   ]
  },
  {
   "cell_type": "code",
   "execution_count": 26,
   "id": "fe8be323",
   "metadata": {},
   "outputs": [
    {
     "data": {
      "image/png": "[encoded data removed]",
      "text/plain": [
       "<Figure size 640x480 with 1 Axes>"
      ]
     },
     "metadata": {},
     "output_type": "display_data"
    }
   ],
   "source": [
    "plt.plot(r1['Epochs'],r1['acc'],label='training-data')\n",
    "plt.plot(r1['Epochs'],r1['val_acc'],label='test-data')\n",
    "plt.title('Epochs vs acc')\n",
    "plt.xlabel('Epochs')\n",
    "plt.ylabel('acc')\n",
    "plt.legend()\n",
    "plt.show()"
   ]
  },
  {
   "cell_type": "code",
   "execution_count": 27,
   "id": "65d0f54e",
   "metadata": {},
   "outputs": [
    {
     "name": "stdout",
     "output_type": "stream",
     "text": [
      "32/32 [==============================] - 0s 6ms/step\n"
     ]
    },
    {
     "data": {
      "text/plain": [
       "array([[5.2637589e-11, 9.5157882e-09, 5.0929538e-07, 2.8574182e-06,\n",
       "        1.6925955e-18, 1.0626800e-10, 9.6425881e-16, 9.9999666e-01,\n",
       "        6.9681322e-12, 7.9701428e-09],\n",
       "       [1.6003801e-12, 6.2000352e-14, 1.0000000e+00, 5.3836796e-12,\n",
       "        8.0121655e-19, 2.8853233e-19, 8.9323290e-17, 2.7568801e-14,\n",
       "        6.8858276e-13, 1.6865007e-22],\n",
       "       [1.1510886e-06, 9.9998784e-01, 1.1743811e-07, 1.2929494e-09,\n",
       "        5.3195271e-07, 2.6302029e-08, 1.8074501e-06, 1.2555174e-06,\n",
       "        2.0191570e-07, 7.0896322e-06],\n",
       "       [1.0000000e+00, 1.8384584e-10, 4.1347015e-10, 1.5205977e-19,\n",
       "        9.7760579e-14, 1.9901783e-16, 2.1927527e-12, 7.2078607e-11,\n",
       "        1.7293599e-17, 2.0301720e-11],\n",
       "       [9.2698839e-14, 2.9665059e-12, 2.6360806e-12, 1.0624503e-14,\n",
       "        1.0000000e+00, 5.5775978e-14, 2.6756761e-10, 2.4948317e-14,\n",
       "        3.8352765e-16, 9.8518832e-11],\n",
       "       [1.1104923e-08, 9.9999678e-01, 2.1123159e-10, 2.9605120e-11,\n",
       "        1.9336408e-09, 2.7678623e-10, 2.4388662e-08, 1.3720593e-07,\n",
       "        2.9578171e-09, 3.1130455e-06],\n",
       "       [2.4786733e-12, 9.4281569e-09, 1.5341063e-10, 2.0307402e-11,\n",
       "        9.9999940e-01, 2.7723765e-10, 4.0161523e-09, 2.1449309e-10,\n",
       "        7.0113670e-10, 5.8803971e-07],\n",
       "       [1.2406257e-06, 1.0768772e-05, 1.5029563e-08, 5.2273408e-06,\n",
       "        1.5362177e-05, 2.1052808e-03, 3.3490142e-05, 4.1384728e-06,\n",
       "        7.3101145e-04, 9.9709344e-01],\n",
       "       [9.2736063e-06, 3.3877390e-10, 3.6098261e-04, 2.0586486e-09,\n",
       "        4.2581130e-12, 9.9224699e-01, 3.6487272e-03, 8.2650879e-11,\n",
       "        3.7334024e-03, 5.9252250e-07],\n",
       "       [2.8101547e-13, 7.1869619e-07, 1.4178937e-10, 5.8359497e-08,\n",
       "        3.0888621e-08, 1.1290433e-09, 8.9010847e-12, 8.4160746e-07,\n",
       "        1.1130364e-06, 9.9999726e-01]], dtype=float32)"
      ]
     },
     "execution_count": 27,
     "metadata": {},
     "output_type": "execute_result"
    }
   ],
   "source": [
    "ypred=m1.predict(x_test)\n",
    "ypred[:10]"
   ]
  },
  {
   "cell_type": "code",
   "execution_count": 31,
   "id": "868a4454",
   "metadata": {},
   "outputs": [
    {
     "name": "stdout",
     "output_type": "stream",
     "text": [
      "[7, 2, 1, 0, 4, 1, 4, 9, 5, 9]\n"
     ]
    }
   ],
   "source": [
    "ypred=[np.argmax(i) for i in ypred]\n",
    "print(ypred[:10])"
   ]
  },
  {
   "cell_type": "code",
   "execution_count": 34,
   "id": "10e1fc54",
   "metadata": {},
   "outputs": [],
   "source": [
    "from sklearn.metrics import confusion_matrix,classification_report"
   ]
  },
  {
   "cell_type": "code",
   "execution_count": 35,
   "id": "4bfc29f8",
   "metadata": {},
   "outputs": [
    {
     "name": "stdout",
     "output_type": "stream",
     "text": [
      "[[ 85   0   0   0   0   0   0   0   0   0]\n",
      " [  0 126   0   0   0   0   0   0   0   0]\n",
      " [  0   0 112   0   1   0   1   2   0   0]\n",
      " [  0   0   4 101   0   2   0   0   0   0]\n",
      " [  0   1   1   0 106   0   0   0   0   2]\n",
      " [  0   0   0   0   0  85   1   0   1   0]\n",
      " [  2   0   0   0   0   0  85   0   0   0]\n",
      " [  0   0   4   0   1   0   0  94   0   0]\n",
      " [  1   0   2   0   0   0   0   1  84   1]\n",
      " [  0   0   0   0   0   1   0   0   1  92]]\n"
     ]
    }
   ],
   "source": [
    "cm=confusion_matrix(y_test,ypred)\n",
    "print(cm)"
   ]
  },
  {
   "cell_type": "code",
   "execution_count": 36,
   "id": "59ae567e",
   "metadata": {},
   "outputs": [
    {
     "name": "stdout",
     "output_type": "stream",
     "text": [
      "              precision    recall  f1-score   support\n",
      "\n",
      "           0       0.97      1.00      0.98        85\n",
      "           1       0.99      1.00      1.00       126\n",
      "           2       0.91      0.97      0.94       116\n",
      "           3       1.00      0.94      0.97       107\n",
      "           4       0.98      0.96      0.97       110\n",
      "           5       0.97      0.98      0.97        87\n",
      "           6       0.98      0.98      0.98        87\n",
      "           7       0.97      0.95      0.96        99\n",
      "           8       0.98      0.94      0.96        89\n",
      "           9       0.97      0.98      0.97        94\n",
      "\n",
      "    accuracy                           0.97      1000\n",
      "   macro avg       0.97      0.97      0.97      1000\n",
      "weighted avg       0.97      0.97      0.97      1000\n",
      "\n"
     ]
    }
   ],
   "source": [
    "print(classification_report(y_test,ypred))"
   ]
  },
  {
   "cell_type": "code",
   "execution_count": null,
   "id": "0053717b",
   "metadata": {},
   "outputs": [],
   "source": []
  }
 ],
 "metadata": {
  "kernelspec": {
   "display_name": "base",
   "language": "python",
   "name": "python3"
  },
  "language_info": {
   "codemirror_mode": {
    "name": "ipython",
    "version": 3
   },
   "file_extension": ".py",
   "mimetype": "text/x-python",
   "name": "python",
   "nbconvert_exporter": "python",
   "pygments_lexer": "ipython3",
   "version": "3.9.13 (main, Aug 25 2022, 23:51:50) [MSC v.1916 64 bit (AMD64)]"
  },
  "vscode": {
   "interpreter": {
    "hash": "5ae58900cfbb8c43ab3495913814b7cf26024f51651a94ce8bf64d6111688e8d"
   }
  }
 },
 "nbformat": 4,
 "nbformat_minor": 5
}
